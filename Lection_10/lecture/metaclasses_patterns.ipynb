{
 "cells": [
  {
   "cell_type": "markdown",
   "metadata": {
    "slideshow": {
     "slide_type": "slide"
    }
   },
   "source": [
    "# Metaclasses. OOP Patterns"
   ]
  },
  {
   "cell_type": "markdown",
   "metadata": {},
   "source": [
    "## Rehearsal\n",
    "\n",
    "`What is metaclasses?` is one of the most popular question on interviews.\n",
    "A little back ago we talked that everything is an object in python, including classes.\n",
    "\n",
    "```\n",
    "class C:\n",
    "   pass\n",
    "\n",
    "C  # <class '__main__.C'>\n",
    "type(C)  # <class \"type\" >\n",
    "\n",
    "Metaclass is TYPE that creates instance of CLASS objects.\n",
    "\n",
    "A = type('A', C.__bases__, dict(C.__dict__))\n",
    "A  # <class '__main__.C'>\n",
    "type(A)  # <class \"type\" >\n",
    "```\n",
    "\n",
    "- Metaclasses construct the whole instance of class when invoked\n",
    "- exact steps:\n",
    "   - creates a separate namespace\n",
    "   - executes class body code in that namespace, it populates the namespace\n",
    "   - creates instance of class object. class namespace becomes class.__dict__\n",
    "- We can define our own metaclasses or derive them from type. \n",
    "- Since abovementioned steps are somewhat complicated, usually metaclasses are implemented as subclasses of type.\n",
    "- Since we are now constructing class object ourselves, we have FULL CONTROL on how it will be created.\n",
    "    - you can perform validation of function names. ->> module abc implements abstract classes.\n",
    "    - you can add or remove additional class, static or instance methods automatically.\n",
    "    - do whatever you want. This is one of the most powerful language feature in python."
   ]
  },
  {
   "cell_type": "code",
   "execution_count": 2,
   "metadata": {},
   "outputs": [
    {
     "name": "stdout",
     "output_type": "stream",
     "text": [
      "Cogito ergo sum\n"
     ]
    }
   ],
   "source": [
    "class A:\n",
    "    pass\n",
    "\n",
    "class B:\n",
    "    pass\n",
    "\n",
    "\n",
    "class MyMeta(type):   # is a metaclass\n",
    "    def __new__(cls, name, bases, dct):\n",
    "        cls_instance = super().__new__(cls, name, bases, dct)\n",
    "        def think(self):\n",
    "            print('Cogito ergo sum')\n",
    "        cls_instance.think = think   # adding instance method to ALL classes created with this metaclass\n",
    "        return cls_instance\n",
    "\n",
    "class C(A, B,  metaclass=MyMeta):    # A and B are BASES, using custom metaclass MyMeta\n",
    "    pass\n",
    "\n",
    "x = C()\n",
    "x.think()"
   ]
  },
  {
   "cell_type": "code",
   "execution_count": 1,
   "metadata": {
    "slideshow": {
     "slide_type": "slide"
    }
   },
   "outputs": [
    {
     "ename": "Exception",
     "evalue": "Class `ErrorClass` can not have public attributes",
     "output_type": "error",
     "traceback": [
      "\u001b[0;31m---------------------------------------------------------------------------\u001b[0m",
      "\u001b[0;31mException\u001b[0m                                 Traceback (most recent call last)",
      "Cell \u001b[0;32mIn [1], line 14\u001b[0m\n\u001b[1;32m     11\u001b[0m \u001b[39mclass\u001b[39;00m \u001b[39mNoErrorClass\u001b[39;00m(metaclass\u001b[39m=\u001b[39mDisallowPublicClassAttributes):\n\u001b[1;32m     12\u001b[0m     __private \u001b[39m=\u001b[39m \u001b[39m\"\u001b[39m\u001b[39m\"\u001b[39m\n\u001b[0;32m---> 14\u001b[0m \u001b[39mclass\u001b[39;00m \u001b[39mErrorClass\u001b[39;00m(metaclass\u001b[39m=\u001b[39mDisallowPublicClassAttributes):\n\u001b[1;32m     15\u001b[0m     public \u001b[39m=\u001b[39m \u001b[39m\"\u001b[39m\u001b[39m\"\u001b[39m\n",
      "Cell \u001b[0;32mIn [1], line 8\u001b[0m, in \u001b[0;36mDisallowPublicClassAttributes.__new__\u001b[0;34m(cls, name, bases, dct)\u001b[0m\n\u001b[1;32m      6\u001b[0m cls_instance \u001b[39m=\u001b[39m \u001b[39msuper\u001b[39m()\u001b[39m.\u001b[39m\u001b[39m__new__\u001b[39m(\u001b[39mcls\u001b[39m, name, bases, dct)\n\u001b[1;32m      7\u001b[0m \u001b[39mif\u001b[39;00m \u001b[39many\u001b[39m([\u001b[39mnot\u001b[39;00m key\u001b[39m.\u001b[39mstartswith(\u001b[39m\"\u001b[39m\u001b[39m_\u001b[39m\u001b[39m\"\u001b[39m) \u001b[39mfor\u001b[39;00m key \u001b[39min\u001b[39;00m dct\u001b[39m.\u001b[39mkeys()]):\n\u001b[0;32m----> 8\u001b[0m     \u001b[39mraise\u001b[39;00m \u001b[39mException\u001b[39;00m(\u001b[39m\"\u001b[39m\u001b[39mClass `\u001b[39m\u001b[39m%s\u001b[39;00m\u001b[39m` can not have public attributes\u001b[39m\u001b[39m\"\u001b[39m \u001b[39m%\u001b[39m name)\n\u001b[1;32m      9\u001b[0m \u001b[39mreturn\u001b[39;00m cls_instance\n",
      "\u001b[0;31mException\u001b[0m: Class `ErrorClass` can not have public attributes"
     ]
    }
   ],
   "source": [
    "\n",
    "class DisallowPublicClassAttributes(type):  # is a metaclass\n",
    "    def __new__(cls, name, bases, dct):\n",
    "        cls_instance = super().__new__(cls, name, bases, dct)\n",
    "        if any([not key.startswith(\"_\") for key in dct.keys()]):\n",
    "            raise Exception(\"Class `%s` can not have public attributes\" % name)\n",
    "        return cls_instance\n",
    "\n",
    "class NoErrorClass(metaclass=DisallowPublicClassAttributes):\n",
    "    __private = \"\"\n",
    "\n",
    "class ErrorClass(metaclass=DisallowPublicClassAttributes):\n",
    "    public = \"\"\n",
    "\n"
   ]
  },
  {
   "cell_type": "markdown",
   "metadata": {
    "slideshow": {
     "slide_type": "slide"
    }
   },
   "source": [
    "# Section 1. OOP Patterns\n",
    "\n",
    "  Three main categories:\n",
    "\n",
    "    - Creational\n",
    "        These patterns provide various object creation mechanisms,\n",
    "        which increase flexibility and reuse of existing code.\n",
    "    - Structural\n",
    "        These patterns explain how to assemble objects and classes\n",
    "        into larger structures while keeping these structures flexible and efficient.\n",
    "    - Behavioral\n",
    "        These patterns are concerned with algorithms and the assignment of\n",
    "        responsibilities between objects.\n"
   ]
  },
  {
   "cell_type": "markdown",
   "metadata": {
    "slideshow": {
     "slide_type": "slide"
    }
   },
   "source": [
    "## Creational patterns\n",
    "\n",
    "    - Singleton\n",
    "        Ensures that a class has just a single instance\n",
    "    - Factory method\n",
    "        Provides an interface for creating objects in\n",
    "        a superclass, but allows subclasses to alter the\n",
    "        type and behaviour of objects that will be created.\n",
    "\n",
    "and others https://refactoring.guru/design-patterns/creational-patterns\n",
    "\n",
    "    "
   ]
  },
  {
   "cell_type": "markdown",
   "metadata": {
    "slideshow": {
     "slide_type": "slide"
    }
   },
   "source": [
    "### 3 most popular ways to implement singleton\n",
    "Decorator\n",
    "\n",
    "```python\n",
    "def singleton(cls):\n",
    "    instances = {}\n",
    "\n",
    "    def getinstance(*args, **kwargs):\n",
    "        if cls not in instances:\n",
    "            instances[cls] = cls(*args, **kwargs)\n",
    "        return instances[cls]\n",
    "    return getinstance\n",
    "\n",
    "@singleton\n",
    "class SingletonClass:\n",
    "    pass\n",
    "```"
   ]
  },
  {
   "cell_type": "markdown",
   "metadata": {
    "slideshow": {
     "slide_type": "slide"
    }
   },
   "source": [
    "A base class\n",
    "\n",
    "```python\n",
    "class Singleton(object):\n",
    "    _instance = None\n",
    "\n",
    "    def __new__(cls, *args, **kwargs):\n",
    "        if not isinstance(cls._instance, type(cls)):\n",
    "            cls._instance = super().__new__(cls, *args, **kwargs)\n",
    "        return cls._instance\n",
    "\n",
    "class SingletonClass(Singleton):\n",
    "    pass\n",
    "```"
   ]
  },
  {
   "cell_type": "markdown",
   "metadata": {
    "slideshow": {
     "slide_type": "slide"
    }
   },
   "source": [
    "A metaclass\n",
    "\n",
    "```python\n",
    "class Singleton(type):\n",
    "    _instances = {}\n",
    "\n",
    "    def __call__(cls, *args, **kwargs):\n",
    "        if cls not in cls._instances:\n",
    "            cls._instances[cls] = super().__call__(*args, **kwargs)\n",
    "        return cls._instances[cls]\n",
    "\n",
    "\n",
    "class SingletonClass(metaclass=Singleton):\n",
    "    pass\n",
    "```"
   ]
  },
  {
   "cell_type": "markdown",
   "metadata": {
    "slideshow": {
     "slide_type": "slide"
    }
   },
   "source": [
    "## Structural patterns\n",
    "\n",
    "    - Decorator\n",
    "        Lets you attach new behaviors to objects by placing these\n",
    "        objects inside special wrapper objects that contain the behaviors.\n",
    "    - Proxy\n",
    "        Lets you provide a substitute or placeholder for another object.\n",
    "        A proxy controls access to the original object, allowing you to perform\n",
    "        something either before or after the request gets through to the\n",
    "        original object.\n",
    "\n",
    "and others https://refactoring.guru/design-patterns/structural-patterns"
   ]
  },
  {
   "cell_type": "markdown",
   "metadata": {
    "slideshow": {
     "slide_type": "slide"
    }
   },
   "source": [
    "### Proxy pattern simple example\n",
    "\n",
    "```python\n",
    "class Product:\n",
    "    def request(self) -> None:\n",
    "        print(\"RealSubject: Handling request.\")\n",
    "\n",
    "class Proxy:\n",
    "    def __init__(self, real_product: Product) -> None:\n",
    "        self._real_product = real_product\n",
    "\n",
    "    def request(self) -> None:\n",
    "        if self.check_access():\n",
    "            self._real_product.request()\n",
    "            self.log_access()\n",
    "        else:\n",
    "            print(\"Forbidden\")\n",
    "\n",
    "    def check_access(self) -> bool:\n",
    "        print(\"Proxy: Checking access prior to firing a real request.\")\n",
    "        return True\n",
    "\n",
    "    def log_access(self) -> None:\n",
    "        print(\"Proxy: Logging the time of request.\", end=\"\")\n",
    "```\n",
    "\n",
    "Python example:\n",
    "    https://docs.python.org/3/library/types.html#types.MappingProxyType"
   ]
  },
  {
   "cell_type": "markdown",
   "metadata": {
    "slideshow": {
     "slide_type": "slide"
    }
   },
   "source": [
    "## Behavioral patterns\n",
    "\n",
    "    - Iterator\n",
    "        Lets you traverse elements of a collection.\n",
    "    - Observer\n",
    "        Lets you define a subscription mechanism to notify multiple\n",
    "        objects about any events that happen to the object they’re observing.\n",
    "\n",
    "and others https://refactoring.guru/design-patterns/behavioral-patterns"
   ]
  },
  {
   "cell_type": "markdown",
   "metadata": {
    "slideshow": {
     "slide_type": "slide"
    }
   },
   "source": [
    "### Observer simple example\n",
    "\n",
    "```python\n",
    "class Product:\n",
    "    _observers = []\n",
    "    def attach(self, observer):\n",
    "        self._observers.append(observer)\n",
    "\n",
    "    def notify(self) -> None:\n",
    "        for observer in self._observers:\n",
    "            observer.update(self)\n",
    "\n",
    "    def do_some_logic(self) -> None:\n",
    "        self.value = 2\n",
    "        self.notify()\n",
    "\n",
    "\n",
    "class ObserverA:\n",
    "    def update(self, product):\n",
    "        if product.value < 3:\n",
    "            print(\"ObserverA: Reacted to the event\")\n",
    "\n",
    "product = Product()\n",
    "observer_a = ObserverA()\n",
    "product.attach(observer_a)\n",
    "product.do_some_logic()\n",
    "```"
   ]
  }
 ],
 "metadata": {
  "celltoolbar": "Slideshow",
  "kernelspec": {
   "display_name": "Python 3.9.7 64-bit",
   "language": "python",
   "name": "python3"
  },
  "language_info": {
   "codemirror_mode": {
    "name": "ipython",
    "version": 3
   },
   "file_extension": ".py",
   "mimetype": "text/x-python",
   "name": "python",
   "nbconvert_exporter": "python",
   "pygments_lexer": "ipython3",
   "version": "3.9.7"
  },
  "rise": {
   "scroll": true
  },
  "vscode": {
   "interpreter": {
    "hash": "aee8b7b246df8f9039afb4144a1f6fd8d2ca17a180786b69acc140d282b71a49"
   }
  }
 },
 "nbformat": 4,
 "nbformat_minor": 4
}
